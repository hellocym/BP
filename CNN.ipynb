{
 "cells": [
  {
   "cell_type": "markdown",
   "id": "2a98f309-d042-4c24-a3c7-52753fa3c3e7",
   "metadata": {},
   "source": [
    "# BP for MLP"
   ]
  },
  {
   "cell_type": "markdown",
   "id": "f5dda3a8-1abc-45bc-aa67-09bdc502d3b8",
   "metadata": {},
   "source": [
    "## 1. Forward"
   ]
  },
  {
   "cell_type": "markdown",
   "id": "c3d2900c-898a-4a62-a202-bb597f50d318",
   "metadata": {},
   "source": [
    "设共有$L$层"
   ]
  },
  {
   "cell_type": "markdown",
   "id": "c535e988-23eb-4573-b4d1-7c583dfb09ab",
   "metadata": {},
   "source": [
    "$ z^l \\in\\mathbb R^{n}$ 为第 $ l $ 层经过激活函数前的输出<br>\n",
    "$ a^l \\in\\mathbb R^{m} $ 为第 $ l $ 层经过激活函数后的输出<br>\n",
    "$ \\sigma $ 为激活函数<br>\n",
    "$ \\mathbf W^l \\in\\mathbb R^{n\\times m} $ 为第 $ l $ 层的权重矩阵<br>\n",
    "$ b^l \\in\\mathbb R^{n} $ 为第 $ l $ 层的偏置项<br>"
   ]
  },
  {
   "cell_type": "markdown",
   "id": "811214c5-54dc-497d-a9a0-4ca99b2c1789",
   "metadata": {},
   "source": [
    "$$ z^l = \\mathbf W^la^{l-1}+b^l $$"
   ]
  },
  {
   "cell_type": "markdown",
   "id": "83c4ffb0-b829-4eeb-8c60-32927f700962",
   "metadata": {},
   "source": [
    "$$ a^l = \\sigma(z^l) $$"
   ]
  },
  {
   "cell_type": "markdown",
   "id": "9dcf91c6-78df-48e2-9598-dcf6ab282a14",
   "metadata": {},
   "source": [
    "## 2.Backward"
   ]
  },
  {
   "cell_type": "markdown",
   "id": "72dd3d91-0f84-425b-bb22-c92ca3c95329",
   "metadata": {},
   "source": [
    "最终误差:$ C $"
   ]
  },
  {
   "cell_type": "markdown",
   "id": "c8a5f846-2508-4aaa-9dd2-98e4fee0ee44",
   "metadata": {},
   "source": [
    "第$l$层的误差: $\\delta^l$, 满足$$\\delta^l=\\frac{\\partial C}{\\partial z^l}$$"
   ]
  },
  {
   "cell_type": "markdown",
   "id": "1b0e86a1-b996-4c68-90cb-9e4a17fec3cd",
   "metadata": {},
   "source": [
    "例如，对于MSE，$$C=\\frac 1 2 \\left\\|a^L-y\\right\\|^2_2$$"
   ]
  },
  {
   "cell_type": "markdown",
   "id": "6d31af34-934b-4b36-9903-72768af10051",
   "metadata": {},
   "source": [
    "输出层的误差$$\\delta^L=\\frac{\\partial C}{\\partial z^L}=\\frac{\\partial C}{\\partial a^L}\\frac{\\partial a^L}{\\partial z^L}=(a^L-y)\\odot\\sigma'(z^L)$$\n",
    "其中，$\\odot$为Hadamard积"
   ]
  },
  {
   "cell_type": "markdown",
   "id": "47471476-a9d9-4a45-bcd3-28959db21ece",
   "metadata": {},
   "source": [
    "接着求最终误差$C$对于输出层权重矩阵和偏置的偏导"
   ]
  },
  {
   "cell_type": "markdown",
   "id": "cdd52163-0bc5-4f17-a210-50ef431a393f",
   "metadata": {},
   "source": [
    "$$\\frac{\\partial C}{\\partial \\mathbf W^L}=\\frac{\\partial C}{\\partial z^L}\\frac{\\partial z^L}{\\partial \\mathbf W^L}=\\delta^L(a^{L-1})^T$$"
   ]
  },
  {
   "cell_type": "markdown",
   "id": "754de50f-85d6-425d-b911-1a3d5fcbb7e0",
   "metadata": {},
   "source": [
    "ps: 矩阵求导时，即乘上系数的转置，左乘还是右乘和求导前一致"
   ]
  },
  {
   "cell_type": "markdown",
   "id": "80022bc9-2b61-472a-8429-634d96331d75",
   "metadata": {},
   "source": [
    "$$\\frac{\\partial C}{\\partial b^L}=\\frac{\\partial C}{\\partial z^L}\\frac{\\partial z^L}{\\partial b^L}=\\delta^L\\odot\\mathbf 1=\\delta^L$$"
   ]
  },
  {
   "cell_type": "markdown",
   "id": "3cf6bcd9-c981-446c-8753-0d407d6b860e",
   "metadata": {},
   "source": [
    "接着求第$l$层的误差$\\delta^l$\n",
    "$$ \\delta^l=\\frac{\\partial C}{\\partial z^l}\n",
    "           =\\frac{\\partial C}{\\partial z^{l+1}}\\frac{\\partial z^{l+1}}{\\partial z^{l}}\n",
    "           =\\delta^{l+1}\\frac{\\partial z^{l+1}}{\\partial z^{l}}\n",
    "$$"
   ]
  },
  {
   "cell_type": "markdown",
   "id": "e475ecea-00a7-4ca4-9da0-b15226d5d046",
   "metadata": {},
   "source": [
    "又：\n",
    "$$\n",
    "z^{l+1}=\\mathbf W^{l+1}a^l+b^{l+1}\n",
    "       =\\mathbf W^{l+1}\\sigma(z^l)+b^{l+1}\n",
    "$$"
   ]
  },
  {
   "cell_type": "markdown",
   "id": "10873268-8b12-4bd8-a235-e79cb9c21d94",
   "metadata": {},
   "source": [
    "求得：\n",
    "$$\n",
    "\\delta^{l}\n",
    "=(\\mathbf W^{l+1})^T\\delta^{l+1}\\odot\\sigma'(z^l)\n",
    "$$"
   ]
  },
  {
   "cell_type": "markdown",
   "id": "30278ad0-1b42-4169-8617-9aa059cef970",
   "metadata": {},
   "source": [
    "于是可以求出每一层的参数：\n",
    "$$\n",
    "\\frac{\\partial C}{\\partial\\mathbf W^l} = \\frac{\\partial C}{\\partial z^l}\\frac{\\partial z^l}{\\partial \\mathbf W^l}\n",
    "=\\delta^l(a^{l-1})^T\n",
    "$$"
   ]
  },
  {
   "cell_type": "markdown",
   "id": "422e882f",
   "metadata": {},
   "source": [
    "$$\n",
    "\\frac{\\partial C}{\\partial b^l} = \\frac{\\partial C}{\\partial z^l}\\frac{\\partial z^l}{\\partial \\mathbf b^l}\n",
    "=\\delta^l\\odot\\mathbf 1\n",
    "=\\delta^l\n",
    "$$"
   ]
  },
  {
   "cell_type": "markdown",
   "id": "cd660579",
   "metadata": {},
   "source": [
    "然后就可以通过梯度下降对每一层参数进行更新：\n",
    "$$\n",
    "\\mathbf W^l\\leftarrow\\mathbf W^l-\\eta\\frac{\\partial C}{\\partial\\mathbf W^l}\n",
    "$$"
   ]
  },
  {
   "cell_type": "markdown",
   "id": "a2038297",
   "metadata": {},
   "source": [
    "$$\n",
    "b^l\\leftarrow b^l-\\eta\\frac{\\partial C}{\\partial b^l}\n",
    "$$"
   ]
  },
  {
   "cell_type": "markdown",
   "id": "fdcef297",
   "metadata": {},
   "source": [
    "SGD的话，每次只用$bs$个样本，所以每次更新的参数为：\n",
    "$$\n",
    "\\mathbf W^l\\leftarrow\\mathbf W^l-\\frac{\\eta}{bs}\\sum_{i=1}^{bs}\\frac{\\partial C_i}{\\partial\\mathbf W^l}\n",
    "$$"
   ]
  },
  {
   "cell_type": "markdown",
   "id": "abc4033c",
   "metadata": {},
   "source": [
    "$$\n",
    "b^l\\leftarrow b^l-\\frac{\\eta}{bs}\\sum_{i=1}^{bs}\\frac{\\partial C_i}{\\partial b^l}\n",
    "$$"
   ]
  },
  {
   "cell_type": "code",
   "execution_count": 180,
   "id": "42fc6c16",
   "metadata": {},
   "outputs": [],
   "source": [
    "from typing import Any\n",
    "import numpy as np\n",
    "from numpy.random import randn\n",
    "\n",
    "class MLP:\n",
    "    def __init__(self, params) -> None:\n",
    "        self.L = params['layers']\n",
    "        self.arch = params['arch']\n",
    "        self.weights = [randn(y, x) for x, y in self.arch]\n",
    "        self.biases = [randn(x, 1) for _, x in self.arch]\n",
    "        self.sigmoid = lambda x: 1 / (1 + np.exp(-x))\n",
    "        self.sigmoid_prime = lambda x: self.sigmoid(x) * (1 - self.sigmoid(x))\n",
    "        \n",
    "        self._z = []\n",
    "        self._a = []\n",
    "\n",
    "\n",
    "    def forward(self, x) -> np.ndarray:\n",
    "        assert len(x.shape) == 2, \"Input must be a 2D array\"\n",
    "        self._z = []\n",
    "        self._a = []\n",
    "        x = x.T\n",
    "        for weight, bias in zip(self.weights, self.biases):\n",
    "            x = weight @ x\n",
    "            x = x + bias\n",
    "            self._z.append(x)\n",
    "            x = self.sigmoid(x)\n",
    "            self._a.append(x)\n",
    "        return x.T\n",
    "    \n",
    "    def backward(self, y_hat, y, lr) -> None:\n",
    "        assert len(y_hat.shape) == 2, \"Input must be a 2D array\"\n",
    "        assert len(y.shape) == 2, \"Input must be a 2D array\"\n",
    "        y_hat = y_hat.T\n",
    "        y = y.T\n",
    "        delta = (y_hat - y) * self.sigmoid_prime(self._z[self.L-1])\n",
    "        for i in range(self.L - 1, -1, -1):\n",
    "            self.weights[i] = self.weights[i] - lr * delta @ self._a[i - 1].T\n",
    "            self.biases[i] = self.biases[i] - lr * delta\n",
    "            delta = self.weights[i].T @ delta * self.sigmoid_prime(self._z[i - 1])\n",
    "        return\n",
    "\n",
    "    def __call__(self, *args: Any, **kwds: Any) -> Any:\n",
    "        return self.forward(*args, **kwds)"
   ]
  },
  {
   "cell_type": "code",
   "execution_count": 182,
   "id": "07afed7a",
   "metadata": {},
   "outputs": [
    {
     "name": "stdout",
     "output_type": "stream",
     "text": [
      "Epoch 1/100 | Loss: 0.7652\n",
      "Epoch 2/100 | Loss: 0.1284\n",
      "Epoch 3/100 | Loss: 0.0014\n",
      "Epoch 4/100 | Loss: 0.0570\n",
      "Epoch 5/100 | Loss: 0.1033\n",
      "Epoch 6/100 | Loss: 1.5405\n",
      "Epoch 7/100 | Loss: 0.0510\n",
      "Epoch 8/100 | Loss: 0.2906\n",
      "Epoch 9/100 | Loss: 1.3640\n",
      "Epoch 10/100 | Loss: 0.0276\n",
      "Epoch 11/100 | Loss: 0.0056\n",
      "Epoch 12/100 | Loss: 0.1797\n",
      "Epoch 13/100 | Loss: 0.0766\n",
      "Epoch 14/100 | Loss: 0.0003\n",
      "Epoch 15/100 | Loss: 1.4716\n",
      "Epoch 16/100 | Loss: 0.5314\n",
      "Epoch 17/100 | Loss: 0.1064\n",
      "Epoch 18/100 | Loss: 0.3902\n",
      "Epoch 19/100 | Loss: 0.1592\n",
      "Epoch 20/100 | Loss: 0.3633\n",
      "Epoch 21/100 | Loss: 0.9618\n",
      "Epoch 22/100 | Loss: 0.7905\n",
      "Epoch 23/100 | Loss: 1.0788\n",
      "Epoch 24/100 | Loss: 0.0090\n",
      "Epoch 25/100 | Loss: 0.0816\n",
      "Epoch 26/100 | Loss: 3.0084\n",
      "Epoch 27/100 | Loss: 0.0879\n",
      "Epoch 28/100 | Loss: 0.3627\n",
      "Epoch 29/100 | Loss: 0.0805\n",
      "Epoch 30/100 | Loss: 1.4208\n",
      "Epoch 31/100 | Loss: 0.1141\n",
      "Epoch 32/100 | Loss: 0.0006\n",
      "Epoch 33/100 | Loss: 0.1953\n",
      "Epoch 34/100 | Loss: 0.6889\n",
      "Epoch 35/100 | Loss: 0.2592\n",
      "Epoch 36/100 | Loss: 0.4769\n",
      "Epoch 37/100 | Loss: 0.1982\n",
      "Epoch 38/100 | Loss: 0.0934\n",
      "Epoch 39/100 | Loss: 0.2102\n",
      "Epoch 40/100 | Loss: 0.1186\n",
      "Epoch 41/100 | Loss: 0.4422\n",
      "Epoch 42/100 | Loss: 1.6373\n",
      "Epoch 43/100 | Loss: 0.1020\n",
      "Epoch 44/100 | Loss: 0.6827\n",
      "Epoch 45/100 | Loss: 0.5097\n",
      "Epoch 46/100 | Loss: 0.0003\n",
      "Epoch 47/100 | Loss: 0.9358\n",
      "Epoch 48/100 | Loss: 0.0548\n",
      "Epoch 49/100 | Loss: 0.0733\n",
      "Epoch 50/100 | Loss: 1.0460\n",
      "Epoch 51/100 | Loss: 0.0813\n",
      "Epoch 52/100 | Loss: 0.0734\n",
      "Epoch 53/100 | Loss: 0.1301\n",
      "Epoch 54/100 | Loss: 0.9813\n",
      "Epoch 55/100 | Loss: 0.6643\n",
      "Epoch 56/100 | Loss: 2.6489\n",
      "Epoch 57/100 | Loss: 0.2560\n",
      "Epoch 58/100 | Loss: 0.4830\n",
      "Epoch 59/100 | Loss: 0.0092\n",
      "Epoch 60/100 | Loss: 0.1306\n",
      "Epoch 61/100 | Loss: 0.0549\n",
      "Epoch 62/100 | Loss: 0.0540\n",
      "Epoch 63/100 | Loss: 0.0064\n",
      "Epoch 64/100 | Loss: 0.8132\n",
      "Epoch 65/100 | Loss: 0.7857\n",
      "Epoch 66/100 | Loss: 0.4162\n",
      "Epoch 67/100 | Loss: 0.3878\n",
      "Epoch 68/100 | Loss: 0.0423\n",
      "Epoch 69/100 | Loss: 0.6996\n",
      "Epoch 70/100 | Loss: 0.3389\n",
      "Epoch 71/100 | Loss: 0.1311\n",
      "Epoch 72/100 | Loss: 1.2855\n",
      "Epoch 73/100 | Loss: 0.1120\n",
      "Epoch 74/100 | Loss: 0.0099\n",
      "Epoch 75/100 | Loss: 0.8990\n",
      "Epoch 76/100 | Loss: 0.7666\n",
      "Epoch 77/100 | Loss: 1.8365\n",
      "Epoch 78/100 | Loss: 1.9711\n",
      "Epoch 79/100 | Loss: 0.1920\n",
      "Epoch 80/100 | Loss: 0.0222\n",
      "Epoch 81/100 | Loss: 0.2394\n",
      "Epoch 82/100 | Loss: 0.2516\n",
      "Epoch 83/100 | Loss: 0.2809\n",
      "Epoch 84/100 | Loss: 0.0193\n",
      "Epoch 85/100 | Loss: 0.8064\n",
      "Epoch 86/100 | Loss: 0.4690\n",
      "Epoch 87/100 | Loss: 0.7489\n",
      "Epoch 88/100 | Loss: 2.2205\n",
      "Epoch 89/100 | Loss: 0.0785\n",
      "Epoch 90/100 | Loss: 0.0093\n",
      "Epoch 91/100 | Loss: 0.2800\n",
      "Epoch 92/100 | Loss: 0.0163\n",
      "Epoch 93/100 | Loss: 0.0010\n",
      "Epoch 94/100 | Loss: 0.0010\n",
      "Epoch 95/100 | Loss: 0.1028\n",
      "Epoch 96/100 | Loss: 0.2584\n",
      "Epoch 97/100 | Loss: 0.2423\n",
      "Epoch 98/100 | Loss: 0.0486\n",
      "Epoch 99/100 | Loss: 2.6159\n",
      "Epoch 100/100 | Loss: 0.1825\n"
     ]
    },
    {
     "data": {
      "text/plain": [
       "[<matplotlib.lines.Line2D at 0x7f8b7352c150>]"
      ]
     },
     "execution_count": 182,
     "metadata": {},
     "output_type": "execute_result"
    },
    {
     "data": {
      "image/png": "[encoded data removed]",
      "text/plain": [
       "<Figure size 640x480 with 1 Axes>"
      ]
     },
     "metadata": {},
     "output_type": "display_data"
    }
   ],
   "source": [
    "import numpy as np\n",
    "from matplotlib import pyplot as plt\n",
    "%matplotlib inline\n",
    "\n",
    "params = {\n",
    "    'layers': 3,\n",
    "    'arch': [(2, 3), (3, 4), (4, 1)]\n",
    "}\n",
    "\n",
    "BATCH_SIZE = 1\n",
    "LEARNING_RATE = 0.01\n",
    "EPOCHS = 100\n",
    "\n",
    "model = MLP(params=params)\n",
    "\n",
    "losses = []\n",
    "for epoch in range(EPOCHS):\n",
    "    x = np.random.randn(BATCH_SIZE, 2)\n",
    "    y = np.random.randn(BATCH_SIZE, 1)\n",
    "    y_hat = model(x)\n",
    "    loss = np.mean((y_hat - y)**2) / 2\n",
    "    print(f\"Epoch {epoch+1}/{EPOCHS} | Loss: {loss:.4f}\")\n",
    "    # print(y_hat.shape)\n",
    "    model.backward(y_hat, y, lr=LEARNING_RATE)\n",
    "    losses.append(loss)\n",
    "\n",
    "# loss plot, update\n",
    "plt.plot(losses)\n",
    "    "
   ]
  },
  {
   "cell_type": "code",
   "execution_count": 103,
   "id": "c7c405ab",
   "metadata": {},
   "outputs": [
    {
     "data": {
      "text/plain": [
       "array([[0.14353839]])"
      ]
     },
     "execution_count": 103,
     "metadata": {},
     "output_type": "execute_result"
    }
   ],
   "source": [
    "model = MLP(params=params)\n",
    "model(np.random.randn(1, 2))"
   ]
  },
  {
   "cell_type": "code",
   "execution_count": 100,
   "id": "263a2a30",
   "metadata": {},
   "outputs": [],
   "source": [
    "z = [None]"
   ]
  },
  {
   "cell_type": "code",
   "execution_count": 87,
   "id": "f3ee0cbc",
   "metadata": {},
   "outputs": [],
   "source": [
    "z.append(np.zeros(1))"
   ]
  },
  {
   "cell_type": "code",
   "execution_count": 88,
   "metadata": {},
   "outputs": [
    {
     "data": {
      "text/plain": [
       "[None, array([0.])]"
      ]
     },
     "execution_count": 88,
     "metadata": {},
     "output_type": "execute_result"
    }
   ],
   "source": [
    "z"
   ]
  },
  {
   "cell_type": "code",
   "execution_count": 114,
   "id": "a92b688b",
   "metadata": {},
   "outputs": [
    {
     "ename": "ValueError",
     "evalue": "operands could not be broadcast together with shapes (1,3) (3,2) ",
     "output_type": "error",
     "traceback": [
      "\u001b[0;31m---------------------------------------------------------------------------\u001b[0m",
      "\u001b[0;31mValueError\u001b[0m                                Traceback (most recent call last)",
      "\u001b[0;32m/tmp/ipykernel_43064/3334868353.py\u001b[0m in \u001b[0;36m<module>\u001b[0;34m\u001b[0m\n\u001b[0;32m----> 1\u001b[0;31m \u001b[0mnp\u001b[0m\u001b[0;34m.\u001b[0m\u001b[0mrandom\u001b[0m\u001b[0;34m.\u001b[0m\u001b[0mrandn\u001b[0m\u001b[0;34m(\u001b[0m\u001b[0;36m1\u001b[0m\u001b[0;34m,\u001b[0m \u001b[0;36m2\u001b[0m\u001b[0;34m)\u001b[0m \u001b[0;34m@\u001b[0m \u001b[0mnp\u001b[0m\u001b[0;34m.\u001b[0m\u001b[0mrandom\u001b[0m\u001b[0;34m.\u001b[0m\u001b[0mrandn\u001b[0m\u001b[0;34m(\u001b[0m\u001b[0;36m2\u001b[0m\u001b[0;34m,\u001b[0m \u001b[0;36m3\u001b[0m\u001b[0;34m)\u001b[0m \u001b[0;34m*\u001b[0m \u001b[0mnp\u001b[0m\u001b[0;34m.\u001b[0m\u001b[0mrandom\u001b[0m\u001b[0;34m.\u001b[0m\u001b[0mrandn\u001b[0m\u001b[0;34m(\u001b[0m\u001b[0;36m3\u001b[0m\u001b[0;34m,\u001b[0m \u001b[0;36m2\u001b[0m\u001b[0;34m)\u001b[0m\u001b[0;34m\u001b[0m\u001b[0;34m\u001b[0m\u001b[0m\n\u001b[0m",
      "\u001b[0;31mValueError\u001b[0m: operands could not be broadcast together with shapes (1,3) (3,2) "
     ]
    }
   ],
   "source": [
    "np.random.randn(1, 2) @ np.random.randn(2, 3) * np.random.randn(3, 2)"
   ]
  },
  {
   "cell_type": "code",
   "execution_count": null,
   "id": "026995d5",
   "metadata": {},
   "outputs": [],
   "source": []
  }
 ],
 "metadata": {
  "kernelspec": {
   "display_name": "Python 3 (ipykernel)",
   "language": "python",
   "name": "python3"
  },
  "language_info": {
   "codemirror_mode": {
    "name": "ipython",
    "version": 3
   },
   "file_extension": ".py",
   "mimetype": "text/x-python",
   "name": "python",
   "nbconvert_exporter": "python",
   "pygments_lexer": "ipython3",
   "version": "3.7.12"
  }
 },
 "nbformat": 4,
 "nbformat_minor": 5
}
