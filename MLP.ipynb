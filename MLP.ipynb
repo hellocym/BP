{
 "cells": [
  {
   "cell_type": "markdown",
   "id": "2a98f309-d042-4c24-a3c7-52753fa3c3e7",
   "metadata": {},
   "source": [
    "# BP for MLP"
   ]
  },
  {
   "cell_type": "markdown",
   "id": "f5dda3a8-1abc-45bc-aa67-09bdc502d3b8",
   "metadata": {},
   "source": [
    "## 1. Forward"
   ]
  },
  {
   "cell_type": "markdown",
   "id": "c3d2900c-898a-4a62-a202-bb597f50d318",
   "metadata": {},
   "source": [
    "设共有$L$层"
   ]
  },
  {
   "cell_type": "markdown",
   "id": "c535e988-23eb-4573-b4d1-7c583dfb09ab",
   "metadata": {},
   "source": [
    "$ z^l \\in\\mathbb R^{n}$ 为第 $ l $ 层经过激活函数前的输出<br>\n",
    "$ a^l \\in\\mathbb R^{m} $ 为第 $ l $ 层经过激活函数后的输出<br>\n",
    "$ \\sigma $ 为激活函数<br>\n",
    "$ \\mathbf W^l \\in\\mathbb R^{n\\times m} $ 为第 $ l $ 层的权重矩阵<br>\n",
    "$ b^l \\in\\mathbb R^{n} $ 为第 $ l $ 层的偏置项<br>"
   ]
  },
  {
   "cell_type": "markdown",
   "id": "811214c5-54dc-497d-a9a0-4ca99b2c1789",
   "metadata": {},
   "source": [
    "$$ z^l = \\mathbf W^la^{l-1}+b^l $$"
   ]
  },
  {
   "cell_type": "markdown",
   "id": "83c4ffb0-b829-4eeb-8c60-32927f700962",
   "metadata": {},
   "source": [
    "$$ a^l = \\sigma(z^l) $$"
   ]
  },
  {
   "cell_type": "markdown",
   "id": "9dcf91c6-78df-48e2-9598-dcf6ab282a14",
   "metadata": {},
   "source": [
    "## 2.Backward"
   ]
  },
  {
   "cell_type": "markdown",
   "id": "72dd3d91-0f84-425b-bb22-c92ca3c95329",
   "metadata": {},
   "source": [
    "最终误差:$ C $"
   ]
  },
  {
   "cell_type": "markdown",
   "id": "c8a5f846-2508-4aaa-9dd2-98e4fee0ee44",
   "metadata": {},
   "source": [
    "第$l$层的误差: $\\delta^l$, 满足$$\\delta^l=\\frac{\\partial C}{\\partial z^l}$$"
   ]
  },
  {
   "cell_type": "markdown",
   "id": "1b0e86a1-b996-4c68-90cb-9e4a17fec3cd",
   "metadata": {},
   "source": [
    "例如，对于MSE，$$C=\\frac 1 2 \\left\\|a^L-y\\right\\|^2_2$$"
   ]
  },
  {
   "cell_type": "markdown",
   "id": "6d31af34-934b-4b36-9903-72768af10051",
   "metadata": {},
   "source": [
    "输出层的误差$$\\delta^L=\\frac{\\partial C}{\\partial z^L}=\\frac{\\partial C}{\\partial a^L}\\frac{\\partial a^L}{\\partial z^L}=(a^L-y)\\odot\\sigma'(z^L)$$\n",
    "其中，$\\odot$为Hadmard积"
   ]
  },
  {
   "cell_type": "markdown",
   "id": "47471476-a9d9-4a45-bcd3-28959db21ece",
   "metadata": {},
   "source": [
    "接着求最终误差$C$对于输出层权重矩阵和偏置的偏导"
   ]
  },
  {
   "cell_type": "markdown",
   "id": "cdd52163-0bc5-4f17-a210-50ef431a393f",
   "metadata": {},
   "source": [
    "$$\\frac{\\partial C}{\\partial \\mathbf W^L}=\\frac{\\partial C}{\\partial z^L}\\frac{\\partial z^L}{\\partial \\mathbf W^L}=\\delta^L(a^{L-1})^T$$"
   ]
  },
  {
   "cell_type": "markdown",
   "id": "754de50f-85d6-425d-b911-1a3d5fcbb7e0",
   "metadata": {},
   "source": [
    "ps: 矩阵求导时，即乘上系数的转置，左乘还是右乘和求导前一致"
   ]
  },
  {
   "cell_type": "markdown",
   "id": "80022bc9-2b61-472a-8429-634d96331d75",
   "metadata": {},
   "source": [
    "$$\\frac{\\partial C}{\\partial b^L}=\\frac{\\partial C}{\\partial z^L}\\frac{\\partial z^L}{\\partial b^L}=\\delta^L\\odot\\mathbf 1=\\delta^L$$"
   ]
  },
  {
   "cell_type": "markdown",
   "id": "3cf6bcd9-c981-446c-8753-0d407d6b860e",
   "metadata": {},
   "source": [
    "接着求第$l$层的误差$\\delta^l$\n",
    "$$ \\delta^l=\\frac{\\partial C}{\\partial z^l}\n",
    "           =\\frac{\\partial C}{\\partial z^{l+1}}\\frac{\\partial z^{l+1}}{\\partial z^{l}}\n",
    "           =\\delta^{l+1}\\frac{\\partial z^{l+1}}{\\partial z^{l}}\n",
    "$$"
   ]
  },
  {
   "cell_type": "markdown",
   "id": "e475ecea-00a7-4ca4-9da0-b15226d5d046",
   "metadata": {},
   "source": [
    "又：\n",
    "$$\n",
    "z^{l+1}=\\mathbf W^{l+1}a^l+b^{l+1}\n",
    "       =\\mathbf W^{l+1}\\sigma(z^l)+b^{l+1}\n",
    "$$"
   ]
  },
  {
   "cell_type": "markdown",
   "id": "10873268-8b12-4bd8-a235-e79cb9c21d94",
   "metadata": {},
   "source": [
    "求得：\n",
    "$$\n",
    "z^{l+1}\n",
    "=(\\mathbf W^{l+1})^T\\delta^{l+1}\\odot\\sigma'(z^l)\n",
    "$$"
   ]
  },
  {
   "cell_type": "code",
   "execution_count": null,
   "id": "30278ad0-1b42-4169-8617-9aa059cef970",
   "metadata": {},
   "outputs": [],
   "source": []
  }
 ],
 "metadata": {
  "kernelspec": {
   "display_name": "Python 3 (ipykernel)",
   "language": "python",
   "name": "python3"
  },
  "language_info": {
   "codemirror_mode": {
    "name": "ipython",
    "version": 3
   },
   "file_extension": ".py",
   "mimetype": "text/x-python",
   "name": "python",
   "nbconvert_exporter": "python",
   "pygments_lexer": "ipython3",
   "version": "3.7.12"
  }
 },
 "nbformat": 4,
 "nbformat_minor": 5
}
